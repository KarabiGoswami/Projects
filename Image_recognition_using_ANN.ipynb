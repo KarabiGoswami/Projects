{
  "cells": [
    {
      "cell_type": "markdown",
      "metadata": {
        "id": "view-in-github",
        "colab_type": "text"
      },
      "source": [
        "<a href=\"https://colab.research.google.com/github/KarabiGoswami/Projects/blob/main/Image_recognition_using_ANN.ipynb\" target=\"_parent\"><img src=\"https://colab.research.google.com/assets/colab-badge.svg\" alt=\"Open In Colab\"/></a>"
      ]
    },
    {
      "cell_type": "markdown",
      "id": "7ec64fcf",
      "metadata": {
        "id": "7ec64fcf"
      },
      "source": [
        "# Image Recognition\n",
        "Darpan Goswami\n"
      ]
    },
    {
      "cell_type": "code",
      "execution_count": null,
      "id": "b9775800",
      "metadata": {
        "id": "b9775800"
      },
      "outputs": [],
      "source": [
        "from sklearn.metrics import f1_score\n",
        "from sklearn.preprocessing import LabelEncoder\n",
        "from sklearn.model_selection import train_test_split\n",
        "from sklearn.metrics import classification_report\n",
        "from sklearn.metrics import confusion_matrix\n",
        "from sklearn.metrics import accuracy_score\n",
        "import matplotlib.pyplot as plt\n",
        "import scipy.stats as stats\n",
        "import numpy as np\n",
        "import math\n",
        "import imutils\n",
        "import time\n",
        "import cv2\n",
        "import os\n",
        "from imutils import paths"
      ]
    },
    {
      "cell_type": "code",
      "execution_count": null,
      "id": "ead44587",
      "metadata": {
        "id": "ead44587"
      },
      "outputs": [],
      "source": [
        "def face_detection(image):\n",
        "\n",
        "    #cascadePath = \"drive/MyDrive/Colab Notebooks/haarcascade_frontalface_default.xml\"\n",
        "    cascadePath = \"haarcascade_frontalface_default.xml\"\n",
        "    detector = cv2.CascadeClassifier(cascadePath)\n",
        "\n",
        "    gray = cv2.cvtColor(image, cv2.COLOR_BGR2GRAY)\n",
        "    rects = detector.detectMultiScale(gray, scaleFactor=1.05, minNeighbors=10, minSize=(30, 30))\n",
        "\n",
        "    return rects"
      ]
    },
    {
      "cell_type": "code",
      "execution_count": null,
      "id": "6af80bbe",
      "metadata": {
        "id": "6af80bbe",
        "outputId": "64bb2e49-38d3-4a78-f7e1-685856037cdf"
      },
      "outputs": [
        {
          "name": "stdout",
          "output_type": "stream",
          "text": [
            "celeb-data\\celeb-data\\George_Clonney\\George_Clooney_1.jpg\n",
            "George_Clooney_1.jpg\n",
            "celeb-data\\celeb-data\\George_Clonney\\George_Clooney_10.jpg\n",
            "George_Clooney_10.jpg\n",
            "celeb-data\\celeb-data\\George_Clonney\\George_Clooney_11.jpg\n",
            "George_Clooney_11.jpg\n",
            "celeb-data\\celeb-data\\George_Clonney\\George_Clooney_13.jpg\n",
            "George_Clooney_13.jpg\n",
            "celeb-data\\celeb-data\\George_Clonney\\George_Clooney_14.jpg\n",
            "George_Clooney_14.jpg\n",
            "celeb-data\\celeb-data\\George_Clonney\\George_Clooney_15.jpg\n",
            "George_Clooney_15.jpg\n",
            "celeb-data\\celeb-data\\George_Clonney\\George_Clooney_16.jpg\n",
            "George_Clooney_16.jpg\n",
            "celeb-data\\celeb-data\\George_Clonney\\George_Clooney_18.jpg\n",
            "George_Clooney_18.jpg\n",
            "celeb-data\\celeb-data\\George_Clonney\\George_Clooney_19.jpg\n",
            "George_Clooney_19.jpg\n",
            "celeb-data\\celeb-data\\George_Clonney\\George_Clooney_2.jpg\n",
            "George_Clooney_2.jpg\n",
            "celeb-data\\celeb-data\\George_Clonney\\George_Clooney_20.jpg\n",
            "George_Clooney_20.jpg\n",
            "celeb-data\\celeb-data\\George_Clonney\\George_Clooney_22.jpg\n",
            "George_Clooney_22.jpg\n",
            "celeb-data\\celeb-data\\George_Clonney\\George_Clooney_23.jpg\n",
            "George_Clooney_23.jpg\n",
            "celeb-data\\celeb-data\\George_Clonney\\George_Clooney_24.jpg\n",
            "George_Clooney_24.jpg\n",
            "celeb-data\\celeb-data\\George_Clonney\\George_Clooney_25.jpg\n",
            "George_Clooney_25.jpg\n",
            "celeb-data\\celeb-data\\George_Clonney\\George_Clooney_26.jpg\n",
            "George_Clooney_26.jpg\n",
            "celeb-data\\celeb-data\\George_Clonney\\George_Clooney_3.jpg\n",
            "George_Clooney_3.jpg\n",
            "celeb-data\\celeb-data\\George_Clonney\\George_Clooney_4.jpg\n",
            "George_Clooney_4.jpg\n",
            "celeb-data\\celeb-data\\George_Clonney\\George_Clooney_5.jpg\n",
            "George_Clooney_5.jpg\n",
            "celeb-data\\celeb-data\\George_Clonney\\George_Clooney_7.jpg\n",
            "George_Clooney_7.jpg\n",
            "celeb-data\\celeb-data\\George_Clonney\\George_Clooney_8.jpg\n",
            "George_Clooney_8.jpg\n",
            "celeb-data\\celeb-data\\George_Clonney\\George_Clooney_9.jpg\n",
            "George_Clooney_9.jpg\n",
            "celeb-data\\celeb-data\\Matt_Damon\\Matt_Damon_1.jpg\n",
            "Matt_Damon_1.jpg\n",
            "celeb-data\\celeb-data\\Matt_Damon\\Matt_Damon_10.jpg\n",
            "Matt_Damon_10.jpg\n",
            "celeb-data\\celeb-data\\Matt_Damon\\Matt_Damon_11.jpg\n",
            "Matt_Damon_11.jpg\n",
            "celeb-data\\celeb-data\\Matt_Damon\\Matt_Damon_12.jpg\n",
            "Matt_Damon_12.jpg\n",
            "celeb-data\\celeb-data\\Matt_Damon\\Matt_Damon_13.jpg\n",
            "Matt_Damon_13.jpg\n",
            "celeb-data\\celeb-data\\Matt_Damon\\Matt_Damon_14.jpg\n",
            "Matt_Damon_14.jpg\n",
            "celeb-data\\celeb-data\\Matt_Damon\\Matt_Damon_15.jpg\n",
            "Matt_Damon_15.jpg\n",
            "celeb-data\\celeb-data\\Matt_Damon\\Matt_Damon_16.jpg\n",
            "Matt_Damon_16.jpg\n",
            "celeb-data\\celeb-data\\Matt_Damon\\Matt_Damon_19.jpg\n",
            "Matt_Damon_19.jpg\n",
            "celeb-data\\celeb-data\\Matt_Damon\\Matt_Damon_2.jpg\n",
            "Matt_Damon_2.jpg\n",
            "celeb-data\\celeb-data\\Matt_Damon\\Matt_Damon_20.jpg\n",
            "Matt_Damon_20.jpg\n",
            "celeb-data\\celeb-data\\Matt_Damon\\Matt_Damon_21.jpg\n",
            "Matt_Damon_21.jpg\n",
            "celeb-data\\celeb-data\\Matt_Damon\\Matt_Damon_22.jpg\n",
            "Matt_Damon_22.jpg\n",
            "celeb-data\\celeb-data\\Matt_Damon\\Matt_Damon_23.jpg\n",
            "Matt_Damon_23.jpg\n",
            "celeb-data\\celeb-data\\Matt_Damon\\Matt_Damon_24.jpg\n",
            "Matt_Damon_24.jpg\n",
            "celeb-data\\celeb-data\\Matt_Damon\\Matt_Damon_5.jpg\n",
            "Matt_Damon_5.jpg\n",
            "celeb-data\\celeb-data\\Matt_Damon\\Matt_Damon_6.jpg\n",
            "Matt_Damon_6.jpg\n",
            "celeb-data\\celeb-data\\Matt_Damon\\Matt_Damon_7.jpg\n",
            "Matt_Damon_7.jpg\n",
            "celeb-data\\celeb-data\\Matt_Damon\\Matt_Damon_8.jpg\n",
            "Matt_Damon_8.jpg\n",
            "celeb-data\\celeb-data\\Matt_Damon\\Matt_Damon_9.jpg\n",
            "Matt_Damon_9.jpg\n",
            "celeb-data\\celeb-data\\Nicolas_Cage\\Nicolas-Cage_2.jpg\n",
            "Nicolas-Cage_2.jpg\n",
            "celeb-data\\celeb-data\\Nicolas_Cage\\Nicolas_Cage_1.jpg\n",
            "Nicolas_Cage_1.jpg\n",
            "celeb-data\\celeb-data\\Nicolas_Cage\\Nicolas_Cage_11.jpg\n",
            "Nicolas_Cage_11.jpg\n",
            "celeb-data\\celeb-data\\Nicolas_Cage\\Nicolas_Cage_12.jpg\n",
            "Nicolas_Cage_12.jpg\n",
            "celeb-data\\celeb-data\\Nicolas_Cage\\Nicolas_Cage_14.jpg\n",
            "Nicolas_Cage_14.jpg\n",
            "celeb-data\\celeb-data\\Nicolas_Cage\\Nicolas_Cage_15.jpg\n",
            "Nicolas_Cage_15.jpg\n",
            "celeb-data\\celeb-data\\Nicolas_Cage\\Nicolas_Cage_16.jpg\n",
            "Nicolas_Cage_16.jpg\n",
            "celeb-data\\celeb-data\\Nicolas_Cage\\Nicolas_Cage_17.jpg\n",
            "Nicolas_Cage_17.jpg\n",
            "celeb-data\\celeb-data\\Nicolas_Cage\\Nicolas_Cage_18.jpg\n",
            "Nicolas_Cage_18.jpg\n",
            "celeb-data\\celeb-data\\Nicolas_Cage\\Nicolas_Cage_19.jpg\n",
            "Nicolas_Cage_19.jpg\n",
            "celeb-data\\celeb-data\\Nicolas_Cage\\Nicolas_cage_22.jpg\n",
            "Nicolas_cage_22.jpg\n",
            "celeb-data\\celeb-data\\Nicolas_Cage\\Nicolas_Cage_23.jpg\n",
            "Nicolas_Cage_23.jpg\n",
            "celeb-data\\celeb-data\\Nicolas_Cage\\Nicolas_Cage_24.jpg\n",
            "Nicolas_Cage_24.jpg\n",
            "celeb-data\\celeb-data\\Nicolas_Cage\\Nicolas_Cage_25.jpg\n",
            "Nicolas_Cage_25.jpg\n",
            "celeb-data\\celeb-data\\Nicolas_Cage\\Nicolas_Cage_26.jpg\n",
            "Nicolas_Cage_26.jpg\n",
            "celeb-data\\celeb-data\\Nicolas_Cage\\Nicolas_Cage_27.jpg\n",
            "Nicolas_Cage_27.jpg\n",
            "celeb-data\\celeb-data\\Nicolas_Cage\\Nicolas_Cage_3.jpg\n",
            "Nicolas_Cage_3.jpg\n",
            "celeb-data\\celeb-data\\Nicolas_Cage\\Nicolas_Cage_4.jpg\n",
            "Nicolas_Cage_4.jpg\n",
            "celeb-data\\celeb-data\\Nicolas_Cage\\Nicolas_Cage_5.jpg\n",
            "Nicolas_Cage_5.jpg\n",
            "celeb-data\\celeb-data\\Nicolas_Cage\\Nicolas_Cage_8.jpg\n",
            "Nicolas_Cage_8.jpg\n",
            "celeb-data\\celeb-data\\Tom_Cruise\\Tom-Cruise_11.jpg\n",
            "Tom-Cruise_11.jpg\n",
            "celeb-data\\celeb-data\\Tom_Cruise\\Tom-Cruise_14.jpg\n",
            "Tom-Cruise_14.jpg\n",
            "celeb-data\\celeb-data\\Tom_Cruise\\Tom-Cruise_19.jpg\n",
            "Tom-Cruise_19.jpg\n",
            "celeb-data\\celeb-data\\Tom_Cruise\\Tom-Cruise_20.jpg\n",
            "Tom-Cruise_20.jpg\n",
            "celeb-data\\celeb-data\\Tom_Cruise\\Tom-Cruise_21.jpg\n",
            "Tom-Cruise_21.jpg\n",
            "celeb-data\\celeb-data\\Tom_Cruise\\Tom-Cruise_25.jpg\n",
            "Tom-Cruise_25.jpg\n",
            "celeb-data\\celeb-data\\Tom_Cruise\\Tom-Cruise_6.jpg\n",
            "Tom-Cruise_6.jpg\n",
            "celeb-data\\celeb-data\\Tom_Cruise\\Tom-Cruise_7.jpg\n",
            "Tom-Cruise_7.jpg\n",
            "celeb-data\\celeb-data\\Tom_Cruise\\Tom_Cruise_10.jpg\n",
            "Tom_Cruise_10.jpg\n",
            "celeb-data\\celeb-data\\Tom_Cruise\\Tom_Cruise_13.jpg\n",
            "Tom_Cruise_13.jpg\n",
            "celeb-data\\celeb-data\\Tom_Cruise\\Tom_Cruise_16.jpg\n",
            "Tom_Cruise_16.jpg\n",
            "celeb-data\\celeb-data\\Tom_Cruise\\Tom_Cruise_17.jpg\n",
            "Tom_Cruise_17.jpg\n",
            "celeb-data\\celeb-data\\Tom_Cruise\\Tom_Cruise_18.jpg\n",
            "Tom_Cruise_18.jpg\n",
            "celeb-data\\celeb-data\\Tom_Cruise\\Tom_Cruise_2.jpg\n",
            "Tom_Cruise_2.jpg\n",
            "celeb-data\\celeb-data\\Tom_Cruise\\Tom_Cruise_22.jpg\n",
            "Tom_Cruise_22.jpg\n",
            "celeb-data\\celeb-data\\Tom_Cruise\\Tom_Cruise_24.jpg\n",
            "Tom_Cruise_24.jpg\n",
            "celeb-data\\celeb-data\\Tom_Cruise\\Tom_Cruise_3.jpg\n",
            "Tom_Cruise_3.jpg\n",
            "celeb-data\\celeb-data\\Tom_Cruise\\Tom_Cruise_4.jpg\n",
            "Tom_Cruise_4.jpg\n",
            "celeb-data\\celeb-data\\Tom_Cruise\\Tom_Cruise_5.jpg\n",
            "Tom_Cruise_5.jpg\n",
            "81\n",
            "4\n"
          ]
        }
      ],
      "source": [
        "from imutils import paths\n",
        "imagePaths = list(paths.list_images('celeb-data'))\n",
        "for p in imagePaths:\n",
        "    print(p)\n",
        "    print(p.split(os.path.sep)[3])\n",
        "names = [p.split(os.path.sep)[-2] for p in imagePaths]\n",
        "print (len(names))\n",
        "(names , counts) = np.unique(names , return_counts = True)\n",
        "print (len(names))\n",
        "names = names.tolist()"
      ]
    },
    {
      "cell_type": "code",
      "execution_count": null,
      "id": "dc073252",
      "metadata": {
        "id": "dc073252"
      },
      "outputs": [],
      "source": [
        "def load_face_dataset(inputPath, minSamples = 15):\n",
        "  # get all the image paths in the dataset folder structure and grab\n",
        "  # the name(i.e. groundtruth) of all the images and count each of them\n",
        "  # and then put all of the groundtruths into a list\n",
        "    imagePaths = list(paths.list_images(inputPath))\n",
        "    names = [p.split(os.path.sep)[-2] for p in imagePaths]\n",
        "    #to store the repeated names or values only ones ,i.e., uniquely\n",
        "    (names , counts) = np.unique(names , return_counts = True)\n",
        "    names = names.tolist()\n",
        "\n",
        "    faces = []\n",
        "    labels = []\n",
        "\n",
        "  # loop over all of the image paths\n",
        "    for imagePath in imagePaths:\n",
        "    # read the image and grab the image label\n",
        "        image = cv2.imread(imagePath)\n",
        "        name = imagePath.split(os.path.sep)[-2]\n",
        "\n",
        "    # check whether the count of this specific label is\n",
        "    # below our minSamples threshold or not\n",
        "        if counts[names.index(name)] < minSamples:\n",
        "              continue\n",
        "\n",
        "    # perform face detection\n",
        "        boxes = face_detection(image)\n",
        "\n",
        "    # loop over the bounding boxes\n",
        "        for (x , y , w , h) in boxes:\n",
        "            try:\n",
        "                # extract the face ROI, resize it and convert\n",
        "                # it into grayscale format\n",
        "                faceROI = image[y:y+h , x:x+w]#we are trying to extract using this image[y:y+h, x:x+w]\n",
        "                faceROI = cv2.resize(faceROI , (47 , 62))#setting one common size for all faces\n",
        "                faceROI = cv2.cvtColor(faceROI , cv2.COLOR_BGR2GRAY)\n",
        "                #each afce will be of size - (47, 62)\n",
        "                # update the faces and labels list\n",
        "                faces.append(faceROI)\n",
        "                labels.append(name)\n",
        "            except:\n",
        "                continue\n",
        "    # convert and store the faces and labels lists into Numpy array\n",
        "    faces = np.array(faces)\n",
        "    labels = np.array(labels)\n",
        "    print (faces.shape)\n",
        "    print (labels.shape)\n",
        "    print (labels)\n",
        "    return (faces , labels)"
      ]
    },
    {
      "cell_type": "code",
      "execution_count": null,
      "id": "1ed34db7",
      "metadata": {
        "id": "1ed34db7",
        "outputId": "f5b33a15-9c98-44d2-d478-c90e409f08b2"
      },
      "outputs": [
        {
          "name": "stdout",
          "output_type": "stream",
          "text": [
            "(93, 62, 47)\n",
            "(93,)\n",
            "['George_Clonney' 'George_Clonney' 'George_Clonney' 'George_Clonney'\n",
            " 'George_Clonney' 'George_Clonney' 'George_Clonney' 'George_Clonney'\n",
            " 'George_Clonney' 'George_Clonney' 'George_Clonney' 'George_Clonney'\n",
            " 'George_Clonney' 'George_Clonney' 'George_Clonney' 'George_Clonney'\n",
            " 'George_Clonney' 'George_Clonney' 'George_Clonney' 'George_Clonney'\n",
            " 'George_Clonney' 'George_Clonney' 'George_Clonney' 'George_Clonney'\n",
            " 'George_Clonney' 'George_Clonney' 'Matt_Damon' 'Matt_Damon' 'Matt_Damon'\n",
            " 'Matt_Damon' 'Matt_Damon' 'Matt_Damon' 'Matt_Damon' 'Matt_Damon'\n",
            " 'Matt_Damon' 'Matt_Damon' 'Matt_Damon' 'Matt_Damon' 'Matt_Damon'\n",
            " 'Matt_Damon' 'Matt_Damon' 'Matt_Damon' 'Matt_Damon' 'Matt_Damon'\n",
            " 'Matt_Damon' 'Matt_Damon' 'Matt_Damon' 'Nicolas_Cage' 'Nicolas_Cage'\n",
            " 'Nicolas_Cage' 'Nicolas_Cage' 'Nicolas_Cage' 'Nicolas_Cage'\n",
            " 'Nicolas_Cage' 'Nicolas_Cage' 'Nicolas_Cage' 'Nicolas_Cage'\n",
            " 'Nicolas_Cage' 'Nicolas_Cage' 'Nicolas_Cage' 'Nicolas_Cage'\n",
            " 'Nicolas_Cage' 'Nicolas_Cage' 'Nicolas_Cage' 'Nicolas_Cage'\n",
            " 'Nicolas_Cage' 'Nicolas_Cage' 'Nicolas_Cage' 'Nicolas_Cage'\n",
            " 'Nicolas_Cage' 'Nicolas_Cage' 'Tom_Cruise' 'Tom_Cruise' 'Tom_Cruise'\n",
            " 'Tom_Cruise' 'Tom_Cruise' 'Tom_Cruise' 'Tom_Cruise' 'Tom_Cruise'\n",
            " 'Tom_Cruise' 'Tom_Cruise' 'Tom_Cruise' 'Tom_Cruise' 'Tom_Cruise'\n",
            " 'Tom_Cruise' 'Tom_Cruise' 'Tom_Cruise' 'Tom_Cruise' 'Tom_Cruise'\n",
            " 'Tom_Cruise' 'Tom_Cruise' 'Tom_Cruise' 'Tom_Cruise']\n"
          ]
        }
      ],
      "source": [
        "# extract faces and label from dataset\n",
        "(faces , labels) = load_face_dataset('celeb-data/celeb-data', minSamples=15)"
      ]
    },
    {
      "cell_type": "markdown",
      "source": [
        "Assignment"
      ],
      "metadata": {
        "id": "aWm03rFGRYh3"
      },
      "id": "aWm03rFGRYh3"
    },
    {
      "cell_type": "code",
      "execution_count": null,
      "id": "670b0dc8",
      "metadata": {
        "id": "670b0dc8",
        "outputId": "fe57fa0a-8b03-482b-ee2c-301858401784"
      },
      "outputs": [
        {
          "name": "stdout",
          "output_type": "stream",
          "text": [
            "(93, 62, 47)\n",
            "[[167 160 147 ... 232 231 228]\n",
            " [ 75 168 140 ...  13  31  38]\n",
            " [219 220 211 ... 209  38  12]\n",
            " ...\n",
            " [103  32  24 ... 179 180 183]\n",
            " [ 58  95 107 ... 165 164 170]\n",
            " [ 77  75  71 ...  48  51  55]]\n"
          ]
        },
        {
          "data": {
            "text/plain": [
              "MLPClassifier(hidden_layer_sizes=(6, 5), learning_rate_init=0.01,\n",
              "              random_state=5)"
            ]
          },
          "execution_count": 18,
          "metadata": {},
          "output_type": "execute_result"
        }
      ],
      "source": [
        "# encode the labels\n",
        "le = LabelEncoder()\n",
        "labels = le.fit_transform(labels)\n",
        "\n",
        "print (faces.shape)\n",
        "\n",
        "new_faces = faces.reshape(93,62*47)\n",
        "print(new_faces)\n",
        "# split the data into training and test set\n",
        "X_train , x_test , Y_train , y_test = train_test_split(new_faces , labels , test_size = 0.2, random_state = 7)\n",
        "\n",
        "X_train = X_train.reshape((74, 62*47))\n",
        "Y_train = Y_train.reshape((74, ))\n",
        "\n",
        "\n",
        "# Import MLPClassifer\n",
        "from sklearn.neural_network import MLPClassifier\n",
        "\n",
        "# Create model object\n",
        "clf = MLPClassifier(hidden_layer_sizes=(6,5),\n",
        "                    random_state=5,\n",
        "                    learning_rate_init=0.01)\n",
        "\n",
        "# Fit data onto the model\n",
        "clf.fit(X_train,Y_train)"
      ]
    },
    {
      "cell_type": "code",
      "execution_count": null,
      "id": "188b60d4",
      "metadata": {
        "id": "188b60d4",
        "outputId": "4e048120-4521-4541-f944-235f5d410826"
      },
      "outputs": [
        {
          "name": "stdout",
          "output_type": "stream",
          "text": [
            "              precision    recall  f1-score   support\n",
            "\n",
            "           0       0.54      1.00      0.70         7\n",
            "           1       0.00      0.00      0.00         5\n",
            "           2       1.00      0.80      0.89         5\n",
            "           3       1.00      1.00      1.00         2\n",
            "\n",
            "    accuracy                           0.68        19\n",
            "   macro avg       0.63      0.70      0.65        19\n",
            "weighted avg       0.57      0.68      0.60        19\n",
            "\n",
            "Accuracy: 0.6842105263157895\n"
          ]
        },
        {
          "name": "stderr",
          "output_type": "stream",
          "text": [
            "C:\\Users\\mukht\\anaconda3\\lib\\site-packages\\sklearn\\metrics\\_classification.py:1318: UndefinedMetricWarning: Precision and F-score are ill-defined and being set to 0.0 in labels with no predicted samples. Use `zero_division` parameter to control this behavior.\n",
            "  _warn_prf(average, modifier, msg_start, len(result))\n",
            "C:\\Users\\mukht\\anaconda3\\lib\\site-packages\\sklearn\\metrics\\_classification.py:1318: UndefinedMetricWarning: Precision and F-score are ill-defined and being set to 0.0 in labels with no predicted samples. Use `zero_division` parameter to control this behavior.\n",
            "  _warn_prf(average, modifier, msg_start, len(result))\n",
            "C:\\Users\\mukht\\anaconda3\\lib\\site-packages\\sklearn\\metrics\\_classification.py:1318: UndefinedMetricWarning: Precision and F-score are ill-defined and being set to 0.0 in labels with no predicted samples. Use `zero_division` parameter to control this behavior.\n",
            "  _warn_prf(average, modifier, msg_start, len(result))\n"
          ]
        }
      ],
      "source": [
        "#Testing the Model\n",
        "\n",
        "prediction = clf.predict(x_test)\n",
        "\n",
        "# show the classification report\n",
        "\n",
        "print(classification_report(y_test, prediction))\n",
        "print(\"Accuracy:\", accuracy_score(prediction, y_test))"
      ]
    },
    {
      "cell_type": "code",
      "execution_count": null,
      "id": "7034ec94",
      "metadata": {
        "id": "7034ec94"
      },
      "outputs": [],
      "source": []
    }
  ],
  "metadata": {
    "kernelspec": {
      "display_name": "Python 3 (ipykernel)",
      "language": "python",
      "name": "python3"
    },
    "language_info": {
      "codemirror_mode": {
        "name": "ipython",
        "version": 3
      },
      "file_extension": ".py",
      "mimetype": "text/x-python",
      "name": "python",
      "nbconvert_exporter": "python",
      "pygments_lexer": "ipython3",
      "version": "3.9.12"
    },
    "colab": {
      "provenance": [],
      "include_colab_link": true
    }
  },
  "nbformat": 4,
  "nbformat_minor": 5
}